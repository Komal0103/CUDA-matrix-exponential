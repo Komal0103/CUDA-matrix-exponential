{
  "nbformat": 4,
  "nbformat_minor": 0,
  "metadata": {
    "colab": {
      "provenance": [],
      "authorship_tag": "ABX9TyM2U8YceVFZ7VPTXUZtPHzF",
      "include_colab_link": true
    },
    "kernelspec": {
      "name": "python3",
      "display_name": "Python 3"
    },
    "language_info": {
      "name": "python"
    }
  },
  "cells": [
    {
      "cell_type": "markdown",
      "metadata": {
        "id": "view-in-github",
        "colab_type": "text"
      },
      "source": [
        "<a href=\"https://colab.research.google.com/github/Komal0103/CUDA-matrix-exponential/blob/main/make_shape_files.ipynb\" target=\"_parent\"><img src=\"https://colab.research.google.com/assets/colab-badge.svg\" alt=\"Open In Colab\"/></a>"
      ]
    },
    {
      "cell_type": "markdown",
      "source": [
        "Creating Image files"
      ],
      "metadata": {
        "id": "-NIDr1xaCM9N"
      }
    },
    {
      "cell_type": "code",
      "execution_count": 25,
      "metadata": {
        "id": "yXO7l_L32uRJ"
      },
      "outputs": [],
      "source": [
        "import cv2\n",
        "import numpy as np\n",
        "import random as rand\n",
        "from google.colab.patches import cv2_imshow"
      ]
    },
    {
      "cell_type": "code",
      "source": [
        "def imageCreater(name, nums):\n",
        "  if name == 'rectangle':\n",
        "    for i in range(nums):\n",
        "      base_image = np.zeros((112, 112, 1), np.uint8)\n",
        "      x1 = rand.randint(0, 111)\n",
        "      y1 = rand.randint(0, 111)\n",
        "      x2 = rand.randint(x1, 111)\n",
        "      y2 = rand.randint(y1, 111)\n",
        "      print(x1, y1)\n",
        "      print(x2, y2)\n",
        "      cv2.rectangle(base_image, (x1, y1), (x2, y2), 255, -1)\n",
        "      cv2.imwrite(\"rectangle{}.jpeg\".format(i), base_image)\n",
        "  elif name == 'triangle':\n",
        "    for i in range(nums):\n",
        "      base_image = np.zeros((112, 112, 1), np.uint8)\n",
        "      x1 = rand.randint(0, 111)\n",
        "      y1 = rand.randint(0, 111)\n",
        "      x2 = rand.randint(x1, 111)\n",
        "      y2 = rand.randint(y1, 111)\n",
        "      x3 = rand.randint(x1, 111)\n",
        "      y3 = rand.randint(x2, 111)\n",
        "      points = [(x1, y1), (x2, y2), (x3, y3)]\n",
        "      print(x1, y1)\n",
        "      print(x2, y2)\n",
        "      print(x3, y3)\n",
        "      cv2.fillPoly(base_image, np.array([points]), 255)\n",
        "      cv2.imwrite(\"triangle{}.jpeg\".format(i), base_image)\n",
        "      # cv2_imshow(base_image)\n",
        "      # cv2.waitKey(0)\n",
        "      # cv2.destroyAllWindows()"
      ],
      "metadata": {
        "id": "0DXlp1sp3I0D"
      },
      "execution_count": 38,
      "outputs": []
    },
    {
      "cell_type": "code",
      "source": [
        "imageCreater(\"triangle\", 3)"
      ],
      "metadata": {
        "colab": {
          "base_uri": "https://localhost:8080/"
        },
        "id": "y8uzB6R84OnC",
        "outputId": "8f3f680f-3edf-43bd-aaa3-7e43b041fc21"
      },
      "execution_count": 39,
      "outputs": [
        {
          "output_type": "stream",
          "name": "stdout",
          "text": [
            "104 62\n",
            "111 73\n",
            "104 111\n",
            "86 50\n",
            "111 110\n",
            "88 111\n",
            "74 58\n",
            "100 101\n",
            "102 104\n"
          ]
        }
      ]
    },
    {
      "cell_type": "markdown",
      "source": [
        "Create Mapping between colour and permittivity value"
      ],
      "metadata": {
        "id": "RHrorkDLBx8W"
      }
    },
    {
      "cell_type": "code",
      "source": [],
      "metadata": {
        "id": "gqQVj8XzBxbt"
      },
      "execution_count": null,
      "outputs": []
    }
  ]
}